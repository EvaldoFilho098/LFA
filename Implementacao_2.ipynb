{
  "nbformat": 4,
  "nbformat_minor": 0,
  "metadata": {
    "colab": {
      "name": "Implementacao2.py",
      "provenance": [],
      "collapsed_sections": []
    },
    "kernelspec": {
      "name": "python3",
      "display_name": "Python 3"
    },
    "language_info": {
      "name": "python"
    }
  },
  "cells": [
    {
      "cell_type": "code",
      "metadata": {
        "id": "DdD2dYyKRdA-"
      },
      "source": [
        "from itertools import chain, combinations\n",
        "\n",
        "################FUNCOES#######################\n",
        "\n",
        "#Fazer as transicoes\n",
        "def Ligacao_Vazio(Automato,estado):\n",
        "  for e in Automato.estados:\n",
        "    if e == estado:\n",
        "      if len(estado.ligacoes['&']) != 0:\n",
        "        return True\n",
        "  return False\n",
        "\n",
        "def Nome(nome):\n",
        "  aux = '['\n",
        "  if type(nome) == int:\n",
        "    aux += str(nome)\n",
        "  elif type(nome) == list:\n",
        "    for l in nome:\n",
        "      aux += str(l) + ', '\n",
        "    remove = len(aux) - 2\n",
        "    aux = aux[:remove]\n",
        "  aux += ']'\n",
        "  return aux\n",
        "\n",
        "def PegaDestinos(automato,estado,simbolo):\n",
        "  aux = estado.ligacoes[simbolo]\n",
        "  x = ''\n",
        "  for i in aux:\n",
        "    x += i.nome + ','\n",
        "\n",
        "  for i in aux:\n",
        "    if Ligacao_Vazio(automato,i):\n",
        "      add = PegaDestinos(automato,i,'&')\n",
        "      x += add\n",
        "  \n",
        "  return x  \n",
        "\n",
        "def format_name(nome):\n",
        "  return list(nome.replace(',',''))\n",
        "\n",
        "def string_para_lista(nome):\n",
        "  nome = list(nome)\n",
        "  lista = []\n",
        "  for i in nome:\n",
        "    if i !=  '[' and i != ']' and i != ',' and i != ' ':\n",
        "      lista.append(int(i))\n",
        "  return lista\n",
        "\n",
        "def Procura(automato,nome):\n",
        "  for i in automato.estados:\n",
        "    if i.nome == nome:\n",
        "      return i\n",
        "\n",
        "def Conjunto_Das_Partes(iterable):\n",
        "    \"powerset([1,2,3]) --> () (1,) (2,) (3,) (1,2) (1,3) (2,3) (1,2,3)\"\n",
        "    s = list(iterable)\n",
        "    return chain.from_iterable(combinations(s, r) for r in range(len(s)+1))\n",
        "\n",
        "class Automato:\n",
        "  def __init__(self, estados = 0, inicial=None, finais=None, alfabeto=None):\n",
        "    self.estados = []\n",
        "    if type(estados) == list:\n",
        "      self.qtd = len(estados)\n",
        "      for n in estados:\n",
        "        self.estados.append(Estado(str(n)))\n",
        "    elif type(estados) == int:\n",
        "      self.qtd = estados\n",
        "      for n in range(1,estados+1):\n",
        "        self.estados.append(Estado(str(n)))\n",
        "\n",
        "    self.inicial = inicial\n",
        "    if finais == None:\n",
        "      self.finais = set()\n",
        "    else:\n",
        "      self.finais = finais\n",
        "    self.alfabeto = alfabeto\n",
        "    self.Criar_Transicoes()\n",
        "\n",
        "  def Criar_Transicoes(self):\n",
        "    for i in self.estados:\n",
        "      for a in self.alfabeto:\n",
        "        i.ligacoes[a] = []\n",
        "  def Mostra_Estados(self):\n",
        "    print(\"- - - - - - - - - - - - - - - -\")\n",
        "    print(\"ESTADOS: \",end='')\n",
        "    i = 0\n",
        "    for e in self.estados:\n",
        "      print('q',e.nome,sep='', end = ' ')\n",
        "      i += 1\n",
        "      if i < len(self.estados):\n",
        "        print(\"|\",end=' ')\n",
        "      else:\n",
        "        print()\n",
        "    print(\"- - - - - - - - - - - - - - - -\")\n",
        "\n",
        "  def Mostra_Automato(self,tipo='afnd'):\n",
        "    print(\"- - - - - - - - - - - AUTOMATO - - - - - - - - - - - -\")\n",
        "    print(\"ALFABETO: \", self.alfabeto)\n",
        "    self.Mostra_Estados()\n",
        "    print(\"ESTADO INICIAL:\",end='') \n",
        "    if self.inicial:\n",
        "      print(\" q\",self.inicial.nome,sep='')\n",
        "    else:\n",
        "      print(\" NAO DEFINIDO\")\n",
        "\n",
        "    print(\"- - - - - - - - - - - - - - - -\")\n",
        "\n",
        "    if len(self.finais) != 0:\n",
        "      if len(self.finais) > 1:\n",
        "        print(\"ESTADOS FINAIS: \",end='')\n",
        "      elif len(self.finais) == 1:\n",
        "        print(\"ESTADO FINAL: \",end='')\n",
        "      i = 0\n",
        "      for f in self.finais:\n",
        "        print(\"q\",f.nome, sep='',end='')\n",
        "        i+= 1\n",
        "        if i < len(self.finais):\n",
        "          print(\" | \",end='')\n",
        "        else:\n",
        "          print()\n",
        "    else:\n",
        "      print(\"ESTADOS FINAIS: NAO DEFINIDOS\")\n",
        "\n",
        "    print(\"- - - - - - - - - - - - - - - -\")\n",
        "\n",
        "    if tipo == 'afnd':\n",
        "      print(\"TRANSIÇÕES:\")\n",
        "      for e in self.estados:\n",
        "        print(\"Estado: q\",e.nome,sep='')\n",
        "        for a in e.ligacoes.keys():\n",
        "          print(\"+ \",a,\" ---> \",end='')\n",
        "          for i in e.ligacoes[a]:\n",
        "            print(\"q\",i.nome, sep='',end = ' | ')\n",
        "          print()\n",
        "        print(\"\\n- - - - - - - - - - - - - - - -\")\n",
        "    elif tipo == 'afd':\n",
        "      print(\"TRANSIÇÕES:\")\n",
        "      for e in self.estados:\n",
        "        print(\"Estado: q\",e.nome,sep='')\n",
        "        for a in e.ligacoes.keys():\n",
        "          if a != \"&\" :\n",
        "            print(\"+ \",a,\" ---> \",end='')\n",
        "            for i in e.ligacoes[a]:\n",
        "              print(\"q\",i.nome, sep='')\n",
        "        print(\"\\n- - - - - - - - - - - - - - - -\")\n",
        "      \n",
        "    print(\"- - - - - - - - - - - - - - - - - - - - - - - - - - -\")\n",
        "\n",
        "#Class Estado:\n",
        "class Estado:\n",
        "  def __init__(self,nome=\"\",inicial=False,final=False,ligacoes={}):\n",
        "    self.nome = nome\n",
        "    self.inicial = inicial\n",
        "    self.final = final\n",
        "    self.ligacoes = dict() \n",
        "  def Mostra_Estado(self):\n",
        "    #print(\"ESTADO ATUAL: q\", self.nome,sep='')\n",
        "    #for i in self.ligacoes.keys():\n",
        "    #  print(\"LIGACOES: q\", i.nome, \"->\", self.ligacoes[i],sep='')\n",
        "    print(\"ESTADO ATUAL: q\",self.nome,sep='')\n",
        "    for a in self.ligacoes.keys():\n",
        "      print(\"+ \",a,\" ---> \",end='')\n",
        "      for i in self.ligacoes[a]:\n",
        "       print(\"q\",i.nome, sep='',end = ' | ')\n",
        "      print()\n",
        "\n",
        "  def Criar_Ligacoes(self,proximo_estado=\"\",simbolo=\"\"): \n",
        "    self.ligacoes[simbolo].append(proximo_estado)\n"
      ],
      "execution_count": null,
      "outputs": []
    },
    {
      "cell_type": "code",
      "metadata": {
        "id": "hBFT0pa4blG5"
      },
      "source": [
        ""
      ],
      "execution_count": null,
      "outputs": []
    },
    {
      "cell_type": "code",
      "metadata": {
        "id": "EOl2oJHcjDgX",
        "colab": {
          "base_uri": "https://localhost:8080/"
        },
        "outputId": "4e431fe8-c3f9-41e2-d850-1a82eede1658"
      },
      "source": [
        "#CRIACAO DO ALFABETO:\n",
        "print(\"Digite o alfabeto do autômato AFND de forma continua\")\n",
        "print(\"Exemplo: Entrada '01'\")\n",
        "a =  input()\n",
        "Alfabeto = set()\n",
        "for i in a:\n",
        "  Alfabeto.add(i)\n",
        "Alfabeto.add(\"&\")\n",
        "Alfabeto = sorted(Alfabeto)\n",
        "print(\"Alfabeto: \",Alfabeto)"
      ],
      "execution_count": null,
      "outputs": [
        {
          "output_type": "stream",
          "text": [
            "Digite o alfabeto do autômato AFND de forma continua\n",
            "Exemplo: Entrada '01'\n",
            "ab\n",
            "Alfabeto:  ['&', 'a', 'b']\n"
          ],
          "name": "stdout"
        }
      ]
    },
    {
      "cell_type": "code",
      "metadata": {
        "id": "aNrpz1HJlLCA",
        "colab": {
          "base_uri": "https://localhost:8080/"
        },
        "outputId": "2c1e66c9-f82c-49e5-ef23-2f4bdc513686"
      },
      "source": [
        "print(\"Digite a quantidade de estados terá seu automato: \")\n",
        "tam = int(input())\n",
        "AFND = Automato(estados=tam,alfabeto=Alfabeto)"
      ],
      "execution_count": null,
      "outputs": [
        {
          "output_type": "stream",
          "text": [
            "Digite a quantidade de estados terá seu automato: \n",
            "3\n"
          ],
          "name": "stdout"
        }
      ]
    },
    {
      "cell_type": "code",
      "metadata": {
        "id": "OcCI9xuLmRK6",
        "colab": {
          "base_uri": "https://localhost:8080/"
        },
        "outputId": "c3bfdd60-3b0b-459d-ec57-59852b6a3570"
      },
      "source": [
        "AFND.Mostra_Estados()\n",
        "print(\"Informe qual dos estados listados acima será o estado inicial:\")\n",
        "confirma = 0\n",
        "while confirma == 0:  \n",
        "  valor = input()\n",
        "  for i in AFND.estados:\n",
        "    if i.nome == valor[1:]:\n",
        "      i.inicial = True\n",
        "      AFND.inicial = i\n",
        "      confirma = 1\n",
        "      break\n",
        "      "
      ],
      "execution_count": null,
      "outputs": [
        {
          "output_type": "stream",
          "text": [
            "- - - - - - - - - - - - - - - -\n",
            "ESTADOS: q1 | q2 | q3 \n",
            "- - - - - - - - - - - - - - - -\n",
            "Informe qual dos estados listados acima será o estado inicial:\n",
            "q1\n"
          ],
          "name": "stdout"
        }
      ]
    },
    {
      "cell_type": "code",
      "metadata": {
        "id": "yZ8f7xfkMlPO",
        "colab": {
          "base_uri": "https://localhost:8080/"
        },
        "outputId": "219afcc0-56fd-4909-88da-786e8ae324a2"
      },
      "source": [
        "AFND.Mostra_Estados()\n",
        "print(\"Informe qual(is) dos estados listados acima sera(ao) o(s) estado(s) final(is):\")\n",
        "valores = input()\n",
        "valores = valores.split('q')\n",
        "if '' in valores:\n",
        "  indice = valores.index('')\n",
        "  valores.pop(indice)\n",
        "for i in valores:\n",
        "  print(\"Estado final: q\",i,sep='',end='')\n",
        "  if int(i) <= tam:\n",
        "    for e in AFND.estados:\n",
        "      if e.nome == i:\n",
        "        e.final = True\n",
        "        AFND.finais.add(e)\n",
        "    print(\" - - - Adicionado !\")\n",
        "  else:\n",
        "    print(\" - - - Invalido! !\")"
      ],
      "execution_count": null,
      "outputs": [
        {
          "output_type": "stream",
          "text": [
            "- - - - - - - - - - - - - - - -\n",
            "ESTADOS: q1 | q2 | q3 \n",
            "- - - - - - - - - - - - - - - -\n",
            "Informe qual(is) dos estados listados acima sera(ao) o(s) estado(s) final(is):\n",
            "q1\n",
            "Estado final: q1 - - - Adicionado !\n"
          ],
          "name": "stdout"
        }
      ]
    },
    {
      "cell_type": "code",
      "metadata": {
        "id": "MPhwWHTWQy0s",
        "colab": {
          "base_uri": "https://localhost:8080/"
        },
        "outputId": "2a485f70-cdee-4037-b8d6-becd4e6ac394"
      },
      "source": [
        "print(\"- - - - - - - - TRANSIÇÕES - - - - - - -\")\n",
        "AFND.Mostra_Estados()\n",
        "#PARA CADA ESTADO\n",
        "for e in AFND.estados:\n",
        "  #PARA CADA SIMBOLO DO ALFABETO\n",
        "  for a in Alfabeto:\n",
        "    print(\" -> Estado q\",e.nome,\" com o simbolo \\'\",a,\"\\' vai para qual(is) estado(s)?\",sep='')\n",
        "    quant = input()\n",
        "    if quant != '':\n",
        "      quant = quant.split('q')\n",
        "      if '' in quant:\n",
        "        indice = quant.index('')\n",
        "        quant.pop(indice)\n",
        "      for q in quant:\n",
        "        index = AFND.estados.index(e)\n",
        "        for eadd in AFND.estados:\n",
        "          if eadd.nome == q:\n",
        "            AFND.estados[index].Criar_Ligacoes(eadd,a)\n",
        "    e.Mostra_Estado()\n",
        "    print()\n",
        "  print(\"- - - - - - - - - - - - - - - - - - - - - - \")"
      ],
      "execution_count": null,
      "outputs": [
        {
          "output_type": "stream",
          "text": [
            "- - - - - - - - TRANSIÇÕES - - - - - - -\n",
            "- - - - - - - - - - - - - - - -\n",
            "ESTADOS: q1 | q2 | q3 \n",
            "- - - - - - - - - - - - - - - -\n",
            " -> Estado q1 com o simbolo '&' vai para qual(is) estado(s)?\n",
            "q3\n",
            "ESTADO ATUAL: q1\n",
            "+  &  ---> q3 | \n",
            "+  a  ---> \n",
            "+  b  ---> \n",
            "\n",
            " -> Estado q1 com o simbolo 'a' vai para qual(is) estado(s)?\n",
            "\n",
            "ESTADO ATUAL: q1\n",
            "+  &  ---> q3 | \n",
            "+  a  ---> \n",
            "+  b  ---> \n",
            "\n",
            " -> Estado q1 com o simbolo 'b' vai para qual(is) estado(s)?\n",
            "q2\n",
            "ESTADO ATUAL: q1\n",
            "+  &  ---> q3 | \n",
            "+  a  ---> \n",
            "+  b  ---> q2 | \n",
            "\n",
            "- - - - - - - - - - - - - - - - - - - - - - \n",
            " -> Estado q2 com o simbolo '&' vai para qual(is) estado(s)?\n",
            "\n",
            "ESTADO ATUAL: q2\n",
            "+  &  ---> \n",
            "+  a  ---> \n",
            "+  b  ---> \n",
            "\n",
            " -> Estado q2 com o simbolo 'a' vai para qual(is) estado(s)?\n",
            "q2q3\n",
            "ESTADO ATUAL: q2\n",
            "+  &  ---> \n",
            "+  a  ---> q2 | q3 | \n",
            "+  b  ---> \n",
            "\n",
            " -> Estado q2 com o simbolo 'b' vai para qual(is) estado(s)?\n",
            "q3\n",
            "ESTADO ATUAL: q2\n",
            "+  &  ---> \n",
            "+  a  ---> q2 | q3 | \n",
            "+  b  ---> q3 | \n",
            "\n",
            "- - - - - - - - - - - - - - - - - - - - - - \n",
            " -> Estado q3 com o simbolo '&' vai para qual(is) estado(s)?\n",
            "\n",
            "ESTADO ATUAL: q3\n",
            "+  &  ---> \n",
            "+  a  ---> \n",
            "+  b  ---> \n",
            "\n",
            " -> Estado q3 com o simbolo 'a' vai para qual(is) estado(s)?\n",
            "q1\n",
            "ESTADO ATUAL: q3\n",
            "+  &  ---> \n",
            "+  a  ---> q1 | \n",
            "+  b  ---> \n",
            "\n",
            " -> Estado q3 com o simbolo 'b' vai para qual(is) estado(s)?\n",
            "\n",
            "ESTADO ATUAL: q3\n",
            "+  &  ---> \n",
            "+  a  ---> q1 | \n",
            "+  b  ---> \n",
            "\n",
            "- - - - - - - - - - - - - - - - - - - - - - \n"
          ],
          "name": "stdout"
        }
      ]
    },
    {
      "cell_type": "code",
      "metadata": {
        "id": "VuHv_2HoDZs5",
        "colab": {
          "base_uri": "https://localhost:8080/"
        },
        "outputId": "3ddef789-0ad2-4ebf-b95d-e06e6587305f"
      },
      "source": [
        "AFND.Mostra_Automato()"
      ],
      "execution_count": null,
      "outputs": [
        {
          "output_type": "stream",
          "text": [
            "- - - - - - - - - - - AUTOMATO - - - - - - - - - - - -\n",
            "ALFABETO:  ['&', 'a', 'b']\n",
            "- - - - - - - - - - - - - - - -\n",
            "ESTADOS: q1 | q2 | q3 \n",
            "- - - - - - - - - - - - - - - -\n",
            "ESTADO INICIAL: q1\n",
            "- - - - - - - - - - - - - - - -\n",
            "ESTADO FINAL: q1\n",
            "- - - - - - - - - - - - - - - -\n",
            "TRANSIÇÕES:\n",
            "Estado: q1\n",
            "+  &  ---> q3 | \n",
            "+  a  ---> \n",
            "+  b  ---> q2 | \n",
            "\n",
            "- - - - - - - - - - - - - - - -\n",
            "Estado: q2\n",
            "+  &  ---> \n",
            "+  a  ---> q2 | q3 | \n",
            "+  b  ---> q3 | \n",
            "\n",
            "- - - - - - - - - - - - - - - -\n",
            "Estado: q3\n",
            "+  &  ---> \n",
            "+  a  ---> q1 | \n",
            "+  b  ---> \n",
            "\n",
            "- - - - - - - - - - - - - - - -\n",
            "- - - - - - - - - - - - - - - - - - - - - - - - - - -\n"
          ],
          "name": "stdout"
        }
      ]
    },
    {
      "cell_type": "code",
      "metadata": {
        "id": "ZsMIRb4Tw85F",
        "colab": {
          "base_uri": "https://localhost:8080/"
        },
        "outputId": "eaa07436-38b1-425f-be16-b08fce3f68a7"
      },
      "source": [
        "n_estados = list(range(1,tam+1))\n",
        "aux = Conjunto_Das_Partes(n_estados)\n",
        "Novos_estados=[]\n",
        "for i in aux:\n",
        "  Novos_estados.append(str(list(i)))\n",
        "  print(list(i), end=' | ')\n",
        "AFD = Automato(Novos_estados,alfabeto=Alfabeto)"
      ],
      "execution_count": null,
      "outputs": [
        {
          "output_type": "stream",
          "text": [
            "[] | [1] | [2] | [3] | [1, 2] | [1, 3] | [2, 3] | [1, 2, 3] | "
          ],
          "name": "stdout"
        }
      ]
    },
    {
      "cell_type": "code",
      "metadata": {
        "id": "0LacfgINFD6H",
        "colab": {
          "base_uri": "https://localhost:8080/"
        },
        "outputId": "cdcaf935-8790-4172-a268-433a54350335"
      },
      "source": [
        "#Encontrar inicial  \n",
        "n_inicial='[' + AFND.inicial.nome \n",
        "if len(AFND.inicial.ligacoes) != 0:\n",
        "  for i in AFND.inicial.ligacoes['&']:\n",
        "    n_inicial += ', ' + i.nome\n",
        "  n_inicial += ']'\n",
        "  for n in AFD.estados:\n",
        "    if n.nome == n_inicial:\n",
        "      n.inicial = True\n",
        "      AFD.inicial = n\n",
        "  print(\"NOVO ESTADO INICIAL ----> q\",n_inicial,sep='')"
      ],
      "execution_count": null,
      "outputs": [
        {
          "output_type": "stream",
          "text": [
            "NOVO ESTADO INICIAL ----> q[1, 3]\n"
          ],
          "name": "stdout"
        }
      ]
    },
    {
      "cell_type": "code",
      "metadata": {
        "id": "DonV3DBGawyb",
        "colab": {
          "base_uri": "https://localhost:8080/"
        },
        "outputId": "460e4271-f1c0-4f9b-c671-98c50f97bb65"
      },
      "source": [
        "#Encontrar Finais \n",
        "print(\"NOVOS ESTADOS FINAIS ----> \",end='')\n",
        "for i in AFND.finais:\n",
        "  for n in AFD.estados:\n",
        "    if i.nome in n.nome:\n",
        "      n.final = True\n",
        "      AFD.finais.add(n)\n",
        "      print(\"q\",n.nome,sep='',end=' | ') "
      ],
      "execution_count": null,
      "outputs": [
        {
          "output_type": "stream",
          "text": [
            "NOVOS ESTADOS FINAIS ----> q[1] | q[1, 2] | q[1, 3] | q[1, 2, 3] | "
          ],
          "name": "stdout"
        }
      ]
    },
    {
      "cell_type": "code",
      "metadata": {
        "id": "EsnARzv12oOe",
        "colab": {
          "base_uri": "https://localhost:8080/"
        },
        "outputId": "b0569f55-1578-434b-f0d4-a6cc69b7b3e3"
      },
      "source": [
        "#GERANDO TRANSICOES\n",
        "\n",
        "for e in AFD.estados:\n",
        "  if e.nome == '[]':\n",
        "    for a in Alfabeto:\n",
        "      if a !=  '&':\n",
        "        e.Criar_Ligacoes(e,a)\n",
        "  else:\n",
        "    nome_lista = string_para_lista(e.nome)\n",
        "    for a in Alfabeto:\n",
        "      if a != '&':\n",
        "        destino = set()\n",
        "        for l in nome_lista:\n",
        "          estado = Procura(AFND,str(l))\n",
        "          destinos = PegaDestinos(AFND,estado,a)\n",
        "          for d in destinos:\n",
        "            destino.add(d)\n",
        "\n",
        "        destino = sorted(destino)\n",
        "        nome_destino = []\n",
        "        for d in destino:\n",
        "          if d != ',' and d != ' ' and d != '[' and d != ']':\n",
        "            nome_destino.append(int(d))\n",
        "\n",
        "        aux = Procura(AFD,str(nome_destino))\n",
        "        e.Criar_Ligacoes(aux,a)\n",
        "          \n",
        "print(\"-------- Feito!\")          \n"
      ],
      "execution_count": null,
      "outputs": [
        {
          "output_type": "stream",
          "text": [
            "-------- Feito!\n"
          ],
          "name": "stdout"
        }
      ]
    },
    {
      "cell_type": "code",
      "metadata": {
        "id": "LR8OHkhHbdeq",
        "colab": {
          "base_uri": "https://localhost:8080/"
        },
        "outputId": "39091299-2c11-459f-96e2-289954deca95"
      },
      "source": [
        "AFD.Mostra_Automato('afd')"
      ],
      "execution_count": null,
      "outputs": [
        {
          "output_type": "stream",
          "text": [
            "- - - - - - - - - - - AUTOMATO - - - - - - - - - - - -\n",
            "ALFABETO:  ['&', 'a', 'b']\n",
            "- - - - - - - - - - - - - - - -\n",
            "ESTADOS: q[] | q[1] | q[2] | q[3] | q[1, 2] | q[1, 3] | q[2, 3] | q[1, 2, 3] \n",
            "- - - - - - - - - - - - - - - -\n",
            "ESTADO INICIAL: q[1, 3]\n",
            "- - - - - - - - - - - - - - - -\n",
            "ESTADOS FINAIS: q[1, 2] | q[1] | q[1, 2, 3] | q[1, 3]\n",
            "- - - - - - - - - - - - - - - -\n",
            "TRANSIÇÕES:\n",
            "Estado: q[]\n",
            "+  a  ---> q[]\n",
            "+  b  ---> q[]\n",
            "\n",
            "- - - - - - - - - - - - - - - -\n",
            "Estado: q[1]\n",
            "+  a  ---> q[]\n",
            "+  b  ---> q[2]\n",
            "\n",
            "- - - - - - - - - - - - - - - -\n",
            "Estado: q[2]\n",
            "+  a  ---> q[2, 3]\n",
            "+  b  ---> q[3]\n",
            "\n",
            "- - - - - - - - - - - - - - - -\n",
            "Estado: q[3]\n",
            "+  a  ---> q[1, 3]\n",
            "+  b  ---> q[]\n",
            "\n",
            "- - - - - - - - - - - - - - - -\n",
            "Estado: q[1, 2]\n",
            "+  a  ---> q[2, 3]\n",
            "+  b  ---> q[2, 3]\n",
            "\n",
            "- - - - - - - - - - - - - - - -\n",
            "Estado: q[1, 3]\n",
            "+  a  ---> q[1, 3]\n",
            "+  b  ---> q[2]\n",
            "\n",
            "- - - - - - - - - - - - - - - -\n",
            "Estado: q[2, 3]\n",
            "+  a  ---> q[1, 2, 3]\n",
            "+  b  ---> q[3]\n",
            "\n",
            "- - - - - - - - - - - - - - - -\n",
            "Estado: q[1, 2, 3]\n",
            "+  a  ---> q[1, 2, 3]\n",
            "+  b  ---> q[2, 3]\n",
            "\n",
            "- - - - - - - - - - - - - - - -\n",
            "- - - - - - - - - - - - - - - - - - - - - - - - - - -\n"
          ],
          "name": "stdout"
        }
      ]
    },
    {
      "cell_type": "code",
      "metadata": {
        "id": "jvL2GyQnPh4S"
      },
      "source": [
        ""
      ],
      "execution_count": null,
      "outputs": []
    }
  ]
}