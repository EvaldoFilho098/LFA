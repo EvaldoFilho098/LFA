{
  "nbformat": 4,
  "nbformat_minor": 0,
  "metadata": {
    "colab": {
      "name": " IMPLEMENTAÇÃO 4.ipynb",
      "provenance": [],
      "collapsed_sections": []
    },
    "kernelspec": {
      "name": "python3",
      "display_name": "Python 3"
    },
    "language_info": {
      "name": "python"
    }
  },
  "cells": [
    {
      "cell_type": "markdown",
      "metadata": {
        "id": "DgfRshEAB29S"
      },
      "source": [
        "#Imprementação 4 menó\n",
        "\n",
        "* Pegar Alfabeto\n",
        "* Inserir ER\n",
        "* Criar automatos dos simbolos e armazenar\n",
        "* Reconhecer União - Concatenação - Estrela\n",
        "* Aplicar Funções de cada um"
      ]
    },
    {
      "cell_type": "code",
      "metadata": {
        "colab": {
          "base_uri": "https://localhost:8080/"
        },
        "id": "hYgpxmxTB2pM",
        "outputId": "7baf339c-cb60-428a-ee11-af6d50ab3e63"
      },
      "source": [
        "#CRIACAO DO ALFABETO:\n",
        "print(\"Digite o alfabeto do autômato AFND de forma continua\")\n",
        "print(\"Exemplo: Entrada '01'\") \n",
        "a = input()\n",
        "Alfabeto = set()\n",
        "for i in a:\n",
        "  Alfabeto.add(i)\n",
        "Alfabeto = sorted(Alfabeto)\n",
        "print(\"Alfabeto: \",Alfabeto)"
      ],
      "execution_count": null,
      "outputs": [
        {
          "output_type": "stream",
          "text": [
            "Digite o alfabeto do autômato AFND de forma continua\n",
            "Exemplo: Entrada '01'\n",
            "ab\n",
            "Alfabeto:  ['a', 'b']\n"
          ],
          "name": "stdout"
        }
      ]
    },
    {
      "cell_type": "code",
      "metadata": {
        "colab": {
          "base_uri": "https://localhost:8080/"
        },
        "id": "TwBA5gS6EWSi",
        "outputId": "e565a0d9-7ef5-475d-e8f7-e83f3b3abc44"
      },
      "source": [
        "print(\"Insira a Expressão Regurlar\")\n",
        "ER = str(input())\n",
        "\n",
        "print(ER)"
      ],
      "execution_count": null,
      "outputs": [
        {
          "output_type": "stream",
          "text": [
            "Insira a Expressão Regurlar\n",
            "(a U b)*\n",
            "(a U b)*\n"
          ],
          "name": "stdout"
        }
      ]
    },
    {
      "cell_type": "code",
      "metadata": {
        "id": "XMsH7fjtDOaL"
      },
      "source": [
        "def Remove_Espacos(ER):\n",
        "  ER = ER.strip()\n",
        "\n",
        "  for i in range(ER.count(' ')):\n",
        "    x = ER.index(' ')\n",
        "\n",
        "    b = ER[:x]\n",
        "    ER = b + ER[x:].strip()\n",
        "\n",
        "  return ER\n",
        "\n",
        "def Indices_Par(ER):\n",
        "  ''' Função para informar os indices de inicio e fim dos parentesis dentro da ER'''\n",
        "  par = []\n",
        "  abre=[]\n",
        "  \n",
        "  for i in range(len(ER)):\n",
        "    if ER[i] == '(':\n",
        "      abre.append(i)\n",
        "    elif ER[i] == ')':\n",
        "      par.append((abre[-1],i))\n",
        "      abre.pop()\n",
        "\n",
        "  return sorted(par)\n",
        "\n",
        "def Parentesis(ER):\n",
        "  ''' Função para inserir os istens na lista de acordo com os parentesis existentes na ER'''\n",
        "  ER = Remove_Espacos(ER)\n",
        "  par = Indices_Par(ER)\n",
        "  lista = []\n",
        "  i = 0\n",
        "  while i < len(ER):\n",
        "    if ER[i] == '(':\n",
        "      for j in par:\n",
        "        if i == j[0]:\n",
        "          lista.append([ER[j[0]+1:j[1]]])\n",
        "          i = j[1] +1\n",
        "    elif ER[i] != '*' and ER[i] != 'U':\n",
        "      lista.append([ER[i]])\n",
        "      i+=1\n",
        "    else:\n",
        "      lista.append(ER[i])\n",
        "      i+=1\n",
        "  return lista\n",
        "\n",
        "def Separa(ER):\n",
        "  ''' Função recursiva que irá segmentar a ER em uma lista obedecendo os parentesis, as uniões e as concatenações'''\n",
        "  ER = Parentesis(ER)\n",
        "  for i in range(len(ER)):\n",
        "    if ER[i] != 'U' and ER[i] != '*':\n",
        "      if len(ER[i][0]) > 1:\n",
        "        ER[i] = Separa(ER[i][0])\n",
        "  return ER \n",
        "\n",
        "def Verifica_Parentesis(ER):\n",
        "  ''' Função para verificar se a quantidade de parentesis abertos é a mesma da de parentesis fechados '''\n",
        "  abre = 0\n",
        "  fecha = 0\n",
        "  for i in ER:\n",
        "    if i == '(':\n",
        "      abre += 1\n",
        "    elif i == ')':\n",
        "      fecha += 1\n",
        "  if abre == fecha:\n",
        "    return True\n",
        "  else :\n",
        "    return False\n",
        "\n",
        "def Verifica_Alfabeto(ER,alfabeto):\n",
        "  ''' Função para verificar se todos os itens da ER passada são pertencentes ao Alfabeto '''\n",
        "  for i in ER:\n",
        "    if (i != 'U' or i != 'u') and i != '(' and i != ')' and i != '*' and i not in alfabeto:\n",
        "      return False\n",
        "  return True"
      ],
      "execution_count": null,
      "outputs": []
    },
    {
      "cell_type": "code",
      "metadata": {
        "colab": {
          "base_uri": "https://localhost:8080/"
        },
        "id": "1WxFLg4CcLQR",
        "outputId": "cf48cac7-1c73-4546-cdef-6526740faf33"
      },
      "source": [
        "print(Separa(ER))"
      ],
      "execution_count": null,
      "outputs": [
        {
          "output_type": "stream",
          "text": [
            "[[['a'], 'U', ['b']], '*']\n"
          ],
          "name": "stdout"
        }
      ]
    },
    {
      "cell_type": "code",
      "metadata": {
        "id": "wJ6TEWLJKXWV"
      },
      "source": [
        "def Transforma(ER):\n",
        "  for i in range(len(ER)):\n",
        "    if type(ER[i]) == list:\n",
        "        ER[i] = Transforma(ER[i])\n",
        "    elif type(ER[i]) == str:\n",
        "      if ER[i] != 'U' and ER[i] != '*' and ER[i] != '':\n",
        "        new_aut = Automato(estados = 2, alfabeto = ER[i])\n",
        "        new_aut.Criar_Transicoes()\n",
        "        new_aut.estados[0].Criar_Ligacoes(new_aut.estados[1],ER[i])\n",
        "        #new_aut.Mostra_Automato()\n",
        "        ER[i] = new_aut\n",
        "        \n",
        "  return ER"
      ],
      "execution_count": null,
      "outputs": []
    },
    {
      "cell_type": "code",
      "metadata": {
        "id": "3b4LUzOzeWBm"
      },
      "source": [
        "def Concatenacao(aut1,aut2):\n",
        "  pass\n",
        "\n",
        "def Uniao(aut1,aut2):\n",
        "  pass\n",
        "\n",
        "def Estrela(aut):\n",
        "  pass"
      ],
      "execution_count": null,
      "outputs": []
    },
    {
      "cell_type": "code",
      "metadata": {
        "id": "jK7M-psrOhBU"
      },
      "source": [
        "class Automato:\n",
        "  '''\n",
        "  Classe Para Reprezentar Autômatos\n",
        "  Inicialização de um objeto da classe Automato\n",
        "        Parametros:\n",
        "            * estados ---> Ou Um vetor contendo os nomes dos estados. Ex: [1,2,3];\n",
        "                |--------> Ou Um inteiro indicando a quantidade de estados;\n",
        "            * inicial -----> Indica o Estado Inicial do Automato (objeto da classe Estado);\n",
        "            * finais ------> Conjunto de Estados finais (objetos da classe Estado);\n",
        "                |--------> Caso None, é criado um conjunto Vazio;\n",
        "            * alfabeto ---> Conjunto representante do alfabeto do Automato;\n",
        "  \n",
        "  '''\n",
        "  def __init__(self, estados = 0, inicial=None, finais=None, alfabeto=None):\n",
        "    \n",
        "    ######### Verifica o que foi passado para estados #########\n",
        "    self.estados = []\n",
        "    if type(estados) == list:\n",
        "      self.qtd = len(estados)\n",
        "      for n in estados:\n",
        "        if type(n) == int or type(n) == str:\n",
        "          self.estados.append(Estado(str(n)))\n",
        "        else:\n",
        "          self.estados.append(n)\n",
        "    elif type(estados) == int:\n",
        "      self.qtd = estados\n",
        "      for n in range(1,estados+1):\n",
        "        self.estados.append(Estado(str(n)))\n",
        "\n",
        "    ######### Seta o estado Inicial ############\n",
        "    self.inicial = inicial\n",
        "\n",
        "    ######### Seta os estados Finais ###########\n",
        "    if finais == None:\n",
        "      self.finais = set()\n",
        "    else:\n",
        "      self.finais = finais\n",
        "    self.alfabeto = alfabeto\n",
        "    self.Criar_Transicoes()\n",
        "\n",
        "  def Criar_Transicoes(self):\n",
        "    '''\n",
        "    Função para inicializar as transições de cada estado com cada simbolo do alfabeto\n",
        "    '''\n",
        "    for i in self.estados:\n",
        "      for a in self.alfabeto:\n",
        "        i.ligacoes[a] = ['']\n",
        "    \n",
        "    for i in self.estados:\n",
        "      for e in self.estados:\n",
        "        i.ligacoes_inv[e] = ['']\n",
        "\n",
        "  def Transicao(self, e1,e2):\n",
        "    '''\n",
        "    Função que retorna a lista de simbolos da transição entre os dois estados mencionados\n",
        "    '''    \n",
        "    return e1.ligacoes_inv[e2]\n",
        "\n",
        "  def Mostra_Estados(self):\n",
        "    '''\n",
        "    Função de Visualização dos Estados presentes no Autômato\n",
        "    '''\n",
        "\n",
        "    print(\"- - - - - - - - - - - - - - - -\")\n",
        "    print(\"ESTADOS: \",end='')\n",
        "    i = 0\n",
        "    for e in self.estados:\n",
        "      print('q',e.nome,sep='', end = ' ')\n",
        "      i += 1\n",
        "      if i < len(self.estados):\n",
        "        print(\"|\",end=' ')\n",
        "      else:\n",
        "        print()\n",
        "    print(\"- - - - - - - - - - - - - - - -\")\n",
        "\n",
        "  def Mostra_ligacoes(self):\n",
        "    print(\"\\n- - - - - - - - - - - - - - - -\\n\")\n",
        "    for q in self.estados:\n",
        "      print(\"Estado: \",q.nome)\n",
        "      for s in q.ligacoes_inv.keys():\n",
        "        if q.ligacoes_inv[s] != '':\n",
        "          print(\"----> Vai para \", s.nome, \" com o simbolo : \", q.ligacoes_inv[s])\n",
        "      print(\"\\n- - - - - - - - - - - - - - - -\\n\")\n",
        "\n",
        "  def Mostra_Automato(self,tipo='afnd'):\n",
        "    '''\n",
        "    Função de Visualização do Autômato por completo\n",
        "\n",
        "    Parâmetros:\n",
        "        * tipo ---> String Indicando se é AFND ou AFD (opcional);\n",
        "    '''\n",
        "\n",
        "    print(\"- - - - - - - - - - - AUTOMATO - - - - - - - - - - - -\")\n",
        "    print(\"ALFABETO: \", self.alfabeto)\n",
        "    self.Mostra_Estados()\n",
        "    print(\"ESTADO INICIAL:\",end='') \n",
        "    if self.inicial:\n",
        "      print(\" q\",self.inicial.nome,sep='')\n",
        "    else:\n",
        "      print(\" NAO DEFINIDO\")\n",
        "\n",
        "    print(\"- - - - - - - - - - - - - - - -\")\n",
        "\n",
        "    if type(self.finais) == set:\n",
        "      if len(self.finais) != 0:\n",
        "        if len(self.finais) > 1:\n",
        "          print(\"ESTADOS FINAIS: \",end='')\n",
        "        elif len(self.finais) == 1:\n",
        "          print(\"ESTADO FINAL: \",end='')\n",
        "        i = 0\n",
        "        for f in self.finais:\n",
        "          print(\"q\",f.nome, sep='',end='')\n",
        "          i+= 1\n",
        "          if i < len(self.finais):\n",
        "            print(\" | \",end='')\n",
        "          else:\n",
        "            print()\n",
        "      else:\n",
        "        print(\"ESTADOS FINAIS: NAO DEFINIDOS\")\n",
        "    else:\n",
        "      print(\"ESTADO FINAL: q\",self.finais.nome, sep='')\n",
        "\n",
        "    print(\"\\n- - - - - - - - - - - - - - - -\\n\")\n",
        "    \n",
        "    self.Mostra_ligacoes()\n",
        "\n",
        "#Class Estado:\n",
        "class Estado:\n",
        "  '''\n",
        "  Classe para representar um Estado\n",
        "  \n",
        "  Parametros:\n",
        "          * nome ---> String indicando o nome do Estado. Ex: '1';\n",
        "              |------> Caso nada seja passado, é criado um estado com nome '';\n",
        "          * inicial -----> Indica se o Estado é inicial ou não. Admite True ou False como entrada;\n",
        "              |------> Caso nada seja passado, o estado é colocado como não inicial;\n",
        "          * final ------> Indica se o Estado é final ou não. Admite True ou False como entrada;\n",
        "              |------> Caso nada seja passado, o estado é colocado como não final;\n",
        "          * ligacoes --> Um dicionario(dict) que representa todas as ligações que o estado realiza;\n",
        "              |------> Caso nada seja passado, é criado um dicionário vazio;\n",
        "    '''\n",
        "  def __init__(self,nome=\"\",inicial=False,final=False,ligacoes={}):\n",
        "    \n",
        "    self.nome = nome\n",
        "    self.inicial = inicial\n",
        "    self.final = final\n",
        "    self.ligacoes = dict()\n",
        "    self.ligacoes_inv = dict()\n",
        "  def Mostra_Estado(self):\n",
        "    ''' \n",
        "    Função para visualização do Estado e suas ligacoes\n",
        "    '''\n",
        "    print(\"ESTADO ATUAL: q\",self.nome,sep='')\n",
        "    for a in self.ligacoes.keys():\n",
        "      print(\"+ \",a,\" ---> \",end='')\n",
        "      for i in self.ligacoes[a]:\n",
        "       print(\"q\",i.nome, sep='',end = ' | ')\n",
        "      print()\n",
        "\n",
        "  def Criar_Ligacoes(self,proximo_estado=\"\",simbolo=\"\"): \n",
        "    '''\n",
        "    Função para criar as ligações que o estado realiza\n",
        "    Parâmetros:\n",
        "      * proximo_estado ---> Objeto da classe estado ao qual o atual estado é ligado dado determinado simbolo\n",
        "      * simbolo ----------> Simbolo do alfabeto que com o qual será feita a ligação\n",
        "    '''\n",
        "    if self.ligacoes[simbolo][0] == '':\n",
        "      self.ligacoes[simbolo][0] = proximo_estado\n",
        "    else:\n",
        "      self.ligacoes[simbolo].append(proximo_estado)\n",
        "\n",
        "    if self.ligacoes_inv[proximo_estado][0] == '':\n",
        "      self.ligacoes_inv[proximo_estado][0] = simbolo\n",
        "    else:\n",
        "      self.ligacoes_inv[proximo_estado].append(simbolo)"
      ],
      "execution_count": null,
      "outputs": []
    },
    {
      "cell_type": "code",
      "metadata": {
        "colab": {
          "base_uri": "https://localhost:8080/"
        },
        "id": "RSxZNz_uZwMe",
        "outputId": "c316d25b-faa4-4147-8fd0-85102f7cc7f5"
      },
      "source": [
        "print(Transforma(Separa(ER)))"
      ],
      "execution_count": null,
      "outputs": [
        {
          "output_type": "stream",
          "text": [
            "[[[<__main__.Automato object at 0x7f62fd334410>], 'U', [<__main__.Automato object at 0x7f62fd334d10>]], '*']\n"
          ],
          "name": "stdout"
        }
      ]
    },
    {
      "cell_type": "markdown",
      "metadata": {
        "id": "dt_ig3dPOjPm"
      },
      "source": [
        "#Criacao Do AFD"
      ]
    },
    {
      "cell_type": "code",
      "metadata": {
        "colab": {
          "base_uri": "https://localhost:8080/"
        },
        "id": "tBU9joFzon_W",
        "outputId": "00541f2e-8ae2-41f7-caa0-dd015b118644"
      },
      "source": [
        "#CRIACAO DO ALFABETO:\n",
        "print(\"Digite o alfabeto do autômato AFND de forma continua\")\n",
        "print(\"Exemplo: Entrada '01'\") \n",
        "a = input()\n",
        "Alfabeto = set()\n",
        "for i in a:\n",
        "  Alfabeto.add(i)\n",
        "Alfabeto = sorted(Alfabeto)\n",
        "print(\"Alfabeto: \",Alfabeto)\n",
        "\n",
        "#Lendo e definindo a quantidade de estados do AFD\n",
        "print(\"Digite a quantidade de estados terá seu automato: \")\n",
        "tam = int(input())\n",
        "AFD = Automato(estados=tam,alfabeto=Alfabeto)\n",
        "\n",
        "#Lendo e definindo os estados iniciais do AFD\n",
        "AFD.Mostra_Estados()\n",
        "print(\"Informe qual dos estados listados acima será o estado inicial:\")\n",
        "confirma = 0\n",
        "while confirma == 0:  \n",
        "  valor = input()\n",
        "  for i in AFD.estados:\n",
        "    if i.nome == valor[1:]:\n",
        "      i.inicial = True\n",
        "      AFD.inicial = i\n",
        "      confirma = 1\n",
        "      break\n",
        "\n",
        "#Lendo e definindo os estados finais do AFD\n",
        "AFD.Mostra_Estados()\n",
        "print(\"Informe qual dos estados listados acima sera o estado final:\")\n",
        "valores = input()\n",
        "valores = valores.split('q')\n",
        "if '' in valores:\n",
        "  indice = valores.index('')\n",
        "  valores.pop(indice)\n",
        "for i in valores:\n",
        "  print(\"Estado final: q\",i,sep='',end='')\n",
        "  if int(i) <= tam:\n",
        "    for e in AFD.estados:\n",
        "      if e.nome == i:\n",
        "        e.final = True\n",
        "        AFD.finais.add(e)\n",
        "    print(\" - - - Adicionado !\")\n",
        "  else:\n",
        "    print(\" - - - Invalido! !\")\n",
        "  \n",
        "print(\"\\n- - - - - - - - TRANSIÇÕES - - - - - - -\\n\")\n",
        "AFD.Mostra_Estados()\n",
        "\n",
        "#PARA CADA ESTADO\n",
        "for e in AFD.estados:\n",
        "  #PARA CADA SIMBOLO DO ALFABETO\n",
        "  for a in Alfabeto:\n",
        "    confirma = 0\n",
        "    print(\" -> Estado q\",e.nome,\" com o simbolo \\'\",a,\"\\' vai para qual estado?\",sep='')\n",
        "    while confirma == 0:\n",
        "      quant = input()\n",
        "      if len(quant) < 3:\n",
        "        confirma = 1  \n",
        "\n",
        "    if quant != '':\n",
        "      quant = quant.split('q')\n",
        "      if '' in quant:\n",
        "        indice = quant.index('')\n",
        "        quant.pop(indice)\n",
        "      for q in quant:\n",
        "        index = AFD.estados.index(e)\n",
        "        for eadd in AFD.estados:\n",
        "          if eadd.nome == q:\n",
        "            AFD.estados[index].Criar_Ligacoes(eadd,a)\n",
        "    #e.Mostra_Estado()\n",
        "    print()\n",
        "  print(\"- - - - - - - - - - - - - - - - - - - - - - \")\n",
        "  \n",
        "os.system('cls') or None\n",
        "print(\"\\n--------- MOSTRANDO O AUTÔMATO AFND ---------\\n\")\n",
        "AFD.Mostra_Automato()"
      ],
      "execution_count": null,
      "outputs": [
        {
          "output_type": "stream",
          "text": [
            "Digite o alfabeto do autômato AFND de forma continua\n",
            "Exemplo: Entrada '01'\n",
            "ab\n",
            "Alfabeto:  ['a', 'b']\n",
            "Digite a quantidade de estados terá seu automato: \n",
            "2\n",
            "- - - - - - - - - - - - - - - -\n",
            "ESTADOS: q1 | q2 \n",
            "- - - - - - - - - - - - - - - -\n",
            "Informe qual dos estados listados acima será o estado inicial:\n",
            "q1\n",
            "- - - - - - - - - - - - - - - -\n",
            "ESTADOS: q1 | q2 \n",
            "- - - - - - - - - - - - - - - -\n",
            "Informe qual dos estados listados acima sera o estado final:\n",
            "q2\n",
            "Estado final: q2 - - - Adicionado !\n",
            "\n",
            "- - - - - - - - TRANSIÇÕES - - - - - - -\n",
            "\n",
            "- - - - - - - - - - - - - - - -\n",
            "ESTADOS: q1 | q2 \n",
            "- - - - - - - - - - - - - - - -\n",
            " -> Estado q1 com o simbolo 'a' vai para qual estado?\n",
            "q1\n",
            "\n",
            " -> Estado q1 com o simbolo 'b' vai para qual estado?\n",
            "q2\n",
            "\n",
            "- - - - - - - - - - - - - - - - - - - - - - \n",
            " -> Estado q2 com o simbolo 'a' vai para qual estado?\n",
            "q2\n",
            "\n",
            " -> Estado q2 com o simbolo 'b' vai para qual estado?\n",
            "q2\n",
            "\n",
            "- - - - - - - - - - - - - - - - - - - - - - \n",
            "\n",
            "--------- MOSTRANDO O AUTÔMATO AFND ---------\n",
            "\n",
            "- - - - - - - - - - - AUTOMATO - - - - - - - - - - - -\n",
            "ALFABETO:  ['a', 'b']\n",
            "- - - - - - - - - - - - - - - -\n",
            "ESTADOS: q1 | q2 \n",
            "- - - - - - - - - - - - - - - -\n",
            "ESTADO INICIAL: q1\n",
            "- - - - - - - - - - - - - - - -\n",
            "ESTADO FINAL: q2\n",
            "\n",
            "- - - - - - - - - - - - - - - -\n",
            "\n",
            "\n",
            "- - - - - - - - - - - - - - - -\n",
            "\n",
            "Estado:  1\n",
            "----> Vai para  1  com o simbolo :  ['a']\n",
            "----> Vai para  2  com o simbolo :  ['b']\n",
            "\n",
            "- - - - - - - - - - - - - - - -\n",
            "\n",
            "Estado:  2\n",
            "----> Vai para  1  com o simbolo :  ['']\n",
            "----> Vai para  2  com o simbolo :  ['a', 'b']\n",
            "\n",
            "- - - - - - - - - - - - - - - -\n",
            "\n"
          ],
          "name": "stdout"
        }
      ]
    },
    {
      "cell_type": "markdown",
      "metadata": {
        "id": "Q0OjOH3xOnMA"
      },
      "source": [
        "# Criando AFNG\n",
        "\n",
        "\n"
      ]
    },
    {
      "cell_type": "code",
      "metadata": {
        "id": "H3tSxKsikuO-",
        "colab": {
          "base_uri": "https://localhost:8080/"
        },
        "outputId": "3e932fcd-4096-4ee4-b66c-2589e87b2c2e"
      },
      "source": [
        "#Atualizando Alfabeto\n",
        "Alfabeto = set(Alfabeto)\n",
        "Alfabeto.add('&')\n",
        "Alfabeto = list(sorted(Alfabeto))\n",
        "\n",
        "AFNG = Gerando_Automato(AFD,2,Alfabeto)\n",
        "AFNG.Mostra_Automato()"
      ],
      "execution_count": null,
      "outputs": [
        {
          "output_type": "stream",
          "text": [
            "- - - - - - - - - - - AUTOMATO - - - - - - - - - - - -\n",
            "ALFABETO:  ['&', 'a', 'b']\n",
            "- - - - - - - - - - - - - - - -\n",
            "ESTADOS: q0 | q1 | q2 | q3 \n",
            "- - - - - - - - - - - - - - - -\n",
            "ESTADO INICIAL: q0\n",
            "- - - - - - - - - - - - - - - -\n",
            "ESTADO FINAL: q3\n",
            "\n",
            "- - - - - - - - - - - - - - - -\n",
            "\n",
            "\n",
            "- - - - - - - - - - - - - - - -\n",
            "\n",
            "Estado:  0\n",
            "----> Vai para  0  com o simbolo :  ['']\n",
            "----> Vai para  1  com o simbolo :  ['&']\n",
            "----> Vai para  2  com o simbolo :  ['']\n",
            "----> Vai para  3  com o simbolo :  ['']\n",
            "\n",
            "- - - - - - - - - - - - - - - -\n",
            "\n",
            "Estado:  1\n",
            "----> Vai para  0  com o simbolo :  ['']\n",
            "----> Vai para  1  com o simbolo :  ['a']\n",
            "----> Vai para  2  com o simbolo :  ['b']\n",
            "----> Vai para  3  com o simbolo :  ['']\n",
            "\n",
            "- - - - - - - - - - - - - - - -\n",
            "\n",
            "Estado:  2\n",
            "----> Vai para  0  com o simbolo :  ['']\n",
            "----> Vai para  1  com o simbolo :  ['']\n",
            "----> Vai para  2  com o simbolo :  ['(a U b)']\n",
            "----> Vai para  3  com o simbolo :  ['&']\n",
            "\n",
            "- - - - - - - - - - - - - - - -\n",
            "\n",
            "Estado:  3\n",
            "----> Vai para  0  com o simbolo :  ['']\n",
            "----> Vai para  1  com o simbolo :  ['']\n",
            "----> Vai para  2  com o simbolo :  ['']\n",
            "----> Vai para  3  com o simbolo :  ['']\n",
            "\n",
            "- - - - - - - - - - - - - - - -\n",
            "\n"
          ],
          "name": "stdout"
        }
      ]
    },
    {
      "cell_type": "markdown",
      "metadata": {
        "id": "GCiZtYtBwNPI"
      },
      "source": [
        "#Removendo Estados e Obtendo ER"
      ]
    },
    {
      "cell_type": "code",
      "metadata": {
        "colab": {
          "base_uri": "https://localhost:8080/"
        },
        "id": "MO1-0d3iwMuh",
        "outputId": "7484a2fe-d65d-4396-f902-1dacf2d3f83f"
      },
      "source": [
        "for i in range(AFD.qtd):\n",
        "  AFNG = Remocao(AFNG,AFNG.estados[1])\n",
        "\n",
        "ER = AFNG.Transicao(AFNG.estados[0],AFNG.estados[1])\n",
        "\n",
        "print(\"- - - - - - - - - - - - - - - - - - - - - - - - - - - - - - - - - - - - - - - - - - - - - - -\")\n",
        "print(\"\\n\\nEXPRESSAO REGULAR: \", ER)\n",
        "print(\"\\n\\n- - - - - - - - - - - - - - - - - - - - - - - - - - - - - - - - - - - - - - - - - - - - - - - \\n\\n\")\n",
        "print(\"AUTOMATO RESULTANTE: \")\n",
        "AFNG.Mostra_Automato()"
      ],
      "execution_count": null,
      "outputs": [
        {
          "output_type": "stream",
          "text": [
            "- - - - - - - - - - - - - - - - - - - - - - - - - - - - - - - - - - - - - - - - - - - - - - -\n",
            "\n",
            "\n",
            "EXPRESSAO REGULAR:  ((a*b)(a*b U (a U b))*)\n",
            "\n",
            "\n",
            "- - - - - - - - - - - - - - - - - - - - - - - - - - - - - - - - - - - - - - - - - - - - - - - \n",
            "\n",
            "\n",
            "AUTOMATO RESULTANTE: \n",
            "- - - - - - - - - - - AUTOMATO - - - - - - - - - - - -\n",
            "ALFABETO:  ['&', 'a', 'b']\n",
            "- - - - - - - - - - - - - - - -\n",
            "ESTADOS: q0 | q3 \n",
            "- - - - - - - - - - - - - - - -\n",
            "ESTADO INICIAL: q0\n",
            "- - - - - - - - - - - - - - - -\n",
            "ESTADO FINAL: q3\n",
            "\n",
            "- - - - - - - - - - - - - - - -\n",
            "\n",
            "\n",
            "- - - - - - - - - - - - - - - -\n",
            "\n",
            "Estado:  0\n",
            "----> Vai para  0  com o simbolo :  ['']\n",
            "----> Vai para  3  com o simbolo :  ((a*b)(a*b U (a U b))*)\n",
            "\n",
            "- - - - - - - - - - - - - - - -\n",
            "\n",
            "Estado:  3\n",
            "----> Vai para  0  com o simbolo :  ['']\n",
            "----> Vai para  3  com o simbolo :  ['']\n",
            "\n",
            "- - - - - - - - - - - - - - - -\n",
            "\n"
          ],
          "name": "stdout"
        }
      ]
    }
  ]
}